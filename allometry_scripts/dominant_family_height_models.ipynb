{
 "cells": [
  {
   "cell_type": "markdown",
   "id": "a8f59e0a-d54b-4232-84af-ca7771aea493",
   "metadata": {
    "tags": []
   },
   "source": [
    "## Continent-specific tropical PFT Allometries  "
   ]
  },
  {
   "cell_type": "markdown",
   "id": "6303b163-5c24-4ef8-881f-5cdcea41ebea",
   "metadata": {},
   "source": [
    "#### Libraries"
   ]
  },
  {
   "cell_type": "code",
   "execution_count": 1,
   "id": "677a6e2d-12c6-48a1-aff5-fc15bfe34f21",
   "metadata": {
    "tags": []
   },
   "outputs": [
    {
     "name": "stderr",
     "output_type": "stream",
     "text": [
      "/global/homes/j/jneedham/.conda/envs/myenv/lib/python3.9/site-packages/scipy/__init__.py:146: UserWarning: A NumPy version >=1.16.5 and <1.23.0 is required for this version of SciPy (detected version 1.24.3\n",
      "  warnings.warn(f\"A NumPy version >={np_minversion} and <{np_maxversion}\"\n"
     ]
    }
   ],
   "source": [
    "from scipy.stats import qmc\n",
    "import numpy as np\n",
    "import xarray as xr\n",
    "import csv\n",
    "import pandas as pd\n",
    "import os\n",
    "import netCDF4 as nc4\n",
    "from scipy.io import netcdf as nc\n",
    "import sys\n",
    "from tempfile import TemporaryFile                                                                                                                                 \n",
    "import argparse                                                                                                                                                     \n",
    "import shutil                                                                                                                                                       \n",
    "import tempfile \n",
    "import random\n",
    "\n",
    "import math as m\n",
    "from scipy.optimize import curve_fit\n",
    "from scipy.stats import linregress\n",
    "\n",
    "nan = float(\"nan\")\n",
    "\n",
    "import matplotlib.pyplot as plt\n",
    "from matplotlib.pyplot import figure\n",
    "import cartopy.crs as ccrs\n",
    "from matplotlib import cm\n",
    "\n",
    "dark = cm.get_cmap('Paired', 12)\n",
    "colormap = dark(range(12))"
   ]
  },
  {
   "cell_type": "markdown",
   "id": "93b42b19-9baa-4fd6-a67c-7f76a774ef2a",
   "metadata": {},
   "source": [
    "#### CSV files from the  Tallo github:\n",
    "\n",
    "Main csv with dbh,  height, CA: https://github.com/selva-lab-repo/TALLO/tree/main/DB\n",
    "\n",
    "Additional csv with biome info: https://github.com/selva-lab-repo/TALLO/tree/main/Jucker%20et%20al.%202022 - (Tallo_environment.csv)"
   ]
  },
  {
   "cell_type": "code",
   "execution_count": 2,
   "id": "1ba74384-41b4-4f63-9e56-cceffff4b4ba",
   "metadata": {
    "tags": []
   },
   "outputs": [],
   "source": [
    "df = pd.read_csv('/global/homes/j/jneedham/tropical-fixed-biog/allometry_data/Tallo.csv')\n",
    "df_env = pd.read_csv('/global/homes/j/jneedham/tropical-fixed-biog/allometry_data/Tallo_environment.csv')\n"
   ]
  },
  {
   "cell_type": "markdown",
   "id": "ec2f1ab2-55bb-41fa-a92f-d4a2ad68aa00",
   "metadata": {},
   "source": [
    "#### add biome column to main data frame"
   ]
  },
  {
   "cell_type": "code",
   "execution_count": 3,
   "id": "28daf88d-1406-40dc-ad62-9f7c1db40566",
   "metadata": {
    "tags": []
   },
   "outputs": [],
   "source": [
    "df_tallo = pd.merge(df, df_env, on='tree_id', how='outer')\n",
    "#print(df_tallo.head(3))"
   ]
  },
  {
   "cell_type": "markdown",
   "id": "8658d899-126e-43cd-b981-65aafb888ece",
   "metadata": {},
   "source": [
    "#### Filter biomes to only keep tropical forest and savanna trees"
   ]
  },
  {
   "cell_type": "code",
   "execution_count": 4,
   "id": "12a83cd2-7b04-4b08-8ef2-5f3a84a3c509",
   "metadata": {
    "tags": []
   },
   "outputs": [
    {
     "name": "stdout",
     "output_type": "stream",
     "text": [
      "['Boreal/montane forest' 'Tropical rain forest'\n",
      " 'Temperate broadleaf forest' 'Tropical savanna' 'Tropical dry forest'\n",
      " 'Temperate grassland' 'Temperate conifer forest' 'Mediterranean woodland'\n",
      " 'Dryland' 'Mangrove']\n"
     ]
    }
   ],
   "source": [
    "print(df_tallo['biome'].unique())"
   ]
  },
  {
   "cell_type": "code",
   "execution_count": 5,
   "id": "5b22ea13-15d2-41ef-9858-6f22c48fdb18",
   "metadata": {
    "tags": []
   },
   "outputs": [],
   "source": [
    "df_trop = df_tallo.loc[df_tallo['biome'].isin(['Tropical rain forest', 'Tropical savanna', 'Tropical dry forest'])]"
   ]
  },
  {
   "cell_type": "markdown",
   "id": "0a460a0e-72da-4841-a092-13fba428266b",
   "metadata": {
    "tags": []
   },
   "source": [
    "#### Filter to only keep angiospermms (FATES doesn't have needleleaf tropical trees)\n",
    "This discards 1921 trees,  but keeps 174,227"
   ]
  },
  {
   "cell_type": "code",
   "execution_count": 6,
   "id": "da290266-08d3-47df-b4d3-67c4c0d624ef",
   "metadata": {
    "tags": []
   },
   "outputs": [
    {
     "data": {
      "text/html": [
       "<div>\n",
       "<style scoped>\n",
       "    .dataframe tbody tr th:only-of-type {\n",
       "        vertical-align: middle;\n",
       "    }\n",
       "\n",
       "    .dataframe tbody tr th {\n",
       "        vertical-align: top;\n",
       "    }\n",
       "\n",
       "    .dataframe thead th {\n",
       "        text-align: right;\n",
       "    }\n",
       "</style>\n",
       "<table border=\"1\" class=\"dataframe\">\n",
       "  <thead>\n",
       "    <tr style=\"text-align: right;\">\n",
       "      <th></th>\n",
       "      <th>family</th>\n",
       "    </tr>\n",
       "    <tr>\n",
       "      <th>division</th>\n",
       "      <th></th>\n",
       "    </tr>\n",
       "  </thead>\n",
       "  <tbody>\n",
       "    <tr>\n",
       "      <th>Angiosperm</th>\n",
       "      <td>174227</td>\n",
       "    </tr>\n",
       "    <tr>\n",
       "      <th>Gymnosperm</th>\n",
       "      <td>1921</td>\n",
       "    </tr>\n",
       "  </tbody>\n",
       "</table>\n",
       "</div>"
      ],
      "text/plain": [
       "            family\n",
       "division          \n",
       "Angiosperm  174227\n",
       "Gymnosperm    1921"
      ]
     },
     "execution_count": 6,
     "metadata": {},
     "output_type": "execute_result"
    }
   ],
   "source": [
    "x = df_trop.groupby(['division']).count()\n",
    "x[['family']]\n"
   ]
  },
  {
   "cell_type": "code",
   "execution_count": 7,
   "id": "cca25d6b-8e3d-4466-8b81-369cdc7c2687",
   "metadata": {},
   "outputs": [],
   "source": [
    "df_trop = df_trop.loc[df_trop['division'] == 'Angiosperm']"
   ]
  },
  {
   "cell_type": "markdown",
   "id": "473a8819-4e2a-468f-9ad7-874332449584",
   "metadata": {},
   "source": [
    "### Drop unused columns and make a crown area column"
   ]
  },
  {
   "cell_type": "code",
   "execution_count": 8,
   "id": "d5955a7c-5270-4b30-9e78-73363a444823",
   "metadata": {
    "tags": []
   },
   "outputs": [],
   "source": [
    "# only keep relevant columns\n",
    "keep = ['species', 'latitude', 'longitude', 'stem_diameter_cm', 'height_m', 'height_outlier', 'crown_radius_m', \n",
    "       'crown_radius_outlier', 'realm', 'biome', 'family']\n",
    "\n",
    "df_trop = df_trop[keep]\n",
    "\n",
    "# make a crown area column\n",
    "df_trop['crown_area']  = np.pi * df_trop['crown_radius_m']**2 \n",
    "# rename them \n",
    "new_col_names = {'stem_diameter_cm': 'dbh', 'height_m': 'height'}\n",
    "df_trop.rename(columns=new_col_names, inplace=True)\n"
   ]
  },
  {
   "cell_type": "markdown",
   "id": "57da43e8-a720-4bb1-873b-5c507c7ac75a",
   "metadata": {},
   "source": [
    "#### Filter by canopy trees\n",
    "Only keep species that have a maximum dbh greater 30 cm "
   ]
  },
  {
   "cell_type": "code",
   "execution_count": 9,
   "id": "130de273-442f-4e8b-897b-932e7cfcd1d0",
   "metadata": {},
   "outputs": [],
   "source": [
    "max_dbhs = df_trop.pivot_table(index='species', values='dbh', aggfunc='max')\n",
    "# get the names of species where max dbh > 30\n",
    "canopy_species = max_dbhs[max_dbhs['dbh'] > 30]\n",
    "canopy_names = canopy_species.index"
   ]
  },
  {
   "cell_type": "code",
   "execution_count": 10,
   "id": "e2188292-5aeb-4f8c-b3eb-3b0eb14e6d91",
   "metadata": {},
   "outputs": [],
   "source": [
    "df_trop = df_trop.loc[df_trop['species'].isin(canopy_names)]"
   ]
  },
  {
   "cell_type": "markdown",
   "id": "60668c0f-5716-46b9-9cdb-a71e5ff44357",
   "metadata": {},
   "source": [
    "### Only keep dominant family "
   ]
  },
  {
   "cell_type": "code",
   "execution_count": 11,
   "id": "a00074c6-4c02-4378-a4d3-79a54e371ab1",
   "metadata": {},
   "outputs": [
    {
     "data": {
      "text/html": [
       "<div>\n",
       "<style scoped>\n",
       "    .dataframe tbody tr th:only-of-type {\n",
       "        vertical-align: middle;\n",
       "    }\n",
       "\n",
       "    .dataframe tbody tr th {\n",
       "        vertical-align: top;\n",
       "    }\n",
       "\n",
       "    .dataframe thead th {\n",
       "        text-align: right;\n",
       "    }\n",
       "</style>\n",
       "<table border=\"1\" class=\"dataframe\">\n",
       "  <thead>\n",
       "    <tr style=\"text-align: right;\">\n",
       "      <th></th>\n",
       "      <th>realm</th>\n",
       "      <th>family</th>\n",
       "      <th>counts</th>\n",
       "    </tr>\n",
       "  </thead>\n",
       "  <tbody>\n",
       "    <tr>\n",
       "      <th>0</th>\n",
       "      <td>Afrotropic</td>\n",
       "      <td>Fabaceae</td>\n",
       "      <td>4180</td>\n",
       "    </tr>\n",
       "    <tr>\n",
       "      <th>72</th>\n",
       "      <td>Australasia</td>\n",
       "      <td>Myrtaceae</td>\n",
       "      <td>5742</td>\n",
       "    </tr>\n",
       "    <tr>\n",
       "      <th>129</th>\n",
       "      <td>Indo-Malaya</td>\n",
       "      <td>Dipterocarpaceae</td>\n",
       "      <td>6651</td>\n",
       "    </tr>\n",
       "    <tr>\n",
       "      <th>211</th>\n",
       "      <td>Neotropic</td>\n",
       "      <td>Fabaceae</td>\n",
       "      <td>7839</td>\n",
       "    </tr>\n",
       "    <tr>\n",
       "      <th>285</th>\n",
       "      <td>Oceania</td>\n",
       "      <td>Myrtaceae</td>\n",
       "      <td>489</td>\n",
       "    </tr>\n",
       "    <tr>\n",
       "      <th>287</th>\n",
       "      <td>Palearctic</td>\n",
       "      <td>Fagaceae</td>\n",
       "      <td>202</td>\n",
       "    </tr>\n",
       "  </tbody>\n",
       "</table>\n",
       "</div>"
      ],
      "text/plain": [
       "           realm            family  counts\n",
       "0     Afrotropic          Fabaceae    4180\n",
       "72   Australasia         Myrtaceae    5742\n",
       "129  Indo-Malaya  Dipterocarpaceae    6651\n",
       "211    Neotropic          Fabaceae    7839\n",
       "285      Oceania         Myrtaceae     489\n",
       "287   Palearctic          Fagaceae     202"
      ]
     },
     "execution_count": 11,
     "metadata": {},
     "output_type": "execute_result"
    }
   ],
   "source": [
    "df1 = (df_trop.groupby('realm')['family'].value_counts()\n",
    "         .rename('counts').reset_index()\n",
    "         .drop_duplicates('realm'))\n",
    "df1"
   ]
  },
  {
   "cell_type": "code",
   "execution_count": 12,
   "id": "58e7b211-5348-45ba-a1a7-f64cafeb7a25",
   "metadata": {},
   "outputs": [],
   "source": [
    "def family_filter(df, family) :\n",
    "    df = df.loc[df['family'] == family]\n",
    "    return df\n",
    "\n",
    "test = [family_filter(d[1], fam) for d,fam in zip(df_trop.groupby('realm'), df1['family'])]    \n",
    "df_trop = pd.concat(test)"
   ]
  },
  {
   "cell_type": "code",
   "execution_count": 13,
   "id": "16074df4-1bda-48e9-98bc-9c91f36c77a3",
   "metadata": {
    "tags": []
   },
   "outputs": [],
   "source": [
    "# Save the csv file \n",
    "df_trop.to_csv('/global/homes/j/jneedham/tropical-fixed-biog/allometry_data/Tallo_tropical_PFTs.csv', index=False)\n"
   ]
  },
  {
   "cell_type": "markdown",
   "id": "d7d76c8b-71fe-45a0-9d6f-463e2a2c713b",
   "metadata": {},
   "source": [
    "## Martinez-cano height allometry"
   ]
  },
  {
   "cell_type": "code",
   "execution_count": 16,
   "id": "cfb3e623-99a5-48c6-9295-5f540b0aa1b6",
   "metadata": {
    "tags": []
   },
   "outputs": [],
   "source": [
    "def d2hmc (d, p1, p2, p3) :\n",
    "    h = (p1 * d**p2) / (p3 + d**p2)\n",
    "    return h\n",
    "\n",
    "initial_guess = [58.0, 0.73, 21.8]\n"
   ]
  },
  {
   "cell_type": "code",
   "execution_count": 17,
   "id": "02bd3a1a-cfd1-4519-b5ea-b67b4f94f07f",
   "metadata": {},
   "outputs": [],
   "source": [
    "def fit_d2hmc (df, initial_guess) :\n",
    "    # remove nas  in dbh and height\n",
    "    df = df.dropna(subset=['height','dbh'])\n",
    "    # remove outliers\n",
    "    df  = df[df['height_outlier']=='N']\n",
    "   \n",
    "    height_ps, covariance = curve_fit(f=d2hmc, xdata=np.array(df['dbh']), ydata=np.array(df['height']),\n",
    "                                           p0=initial_guess)\n",
    "\n",
    "    return height_ps "
   ]
  },
  {
   "cell_type": "code",
   "execution_count": 18,
   "id": "69ed76fd-0781-469e-89d4-a5a240871c4c",
   "metadata": {},
   "outputs": [],
   "source": [
    "def  d2hbanin (d, a, b, c) : \n",
    "    h  = a - b * np.exp(-c * d)\n",
    "    return h"
   ]
  },
  {
   "cell_type": "code",
   "execution_count": 19,
   "id": "e9bbc236-24f9-430e-88dc-48d76436e107",
   "metadata": {},
   "outputs": [],
   "source": [
    "def fit_d2hbanin2 (df, initial_guess) :\n",
    "    # remove nas  in dbh and height\n",
    "    df = df.dropna(subset=['height','dbh'])\n",
    "    # remove outliers\n",
    "    df  = df[df['height_outlier']=='N']\n",
    "   \n",
    "    height_ps, covariance = curve_fit(f=d2hbanin, xdata=np.array(df['dbh']), ydata=np.array(df['height']),\n",
    "                                           p0=initial_guess)\n",
    "\n",
    "    return height_ps "
   ]
  },
  {
   "cell_type": "code",
   "execution_count": 20,
   "id": "2bf473e9-af61-430f-bb33-1d00c7b054ad",
   "metadata": {},
   "outputs": [],
   "source": [
    "def fit_d2hbanin1(dbhs,  params) : \n",
    "    height =  [d2hbanin(d, params[0], params[1], params[2])  for  d  in dbhs]\n",
    "    return height"
   ]
  },
  {
   "cell_type": "markdown",
   "id": "4ad44f7a-67cc-4010-915d-0cd8e5389203",
   "metadata": {},
   "source": [
    "### Fit Martinez Cano equation to Tallo data"
   ]
  },
  {
   "cell_type": "code",
   "execution_count": 21,
   "id": "27107752-578c-4da2-be95-285554c3d83e",
   "metadata": {},
   "outputs": [],
   "source": [
    "height_ps_mc = [fit_d2hmc(d[1], initial_guess) for d in df_trop.groupby('realm')]"
   ]
  },
  {
   "cell_type": "markdown",
   "id": "dc3b7b84-9fa7-43b5-a03e-9f2cd105fe22",
   "metadata": {},
   "source": [
    "### Fit Banin equation to Tallo data"
   ]
  },
  {
   "cell_type": "code",
   "execution_count": 22,
   "id": "5709a9d6-2349-46af-9e97-76b4ca065b76",
   "metadata": {},
   "outputs": [],
   "source": [
    "initial_guess = [45.08, 42.80, 0.025]\n",
    "height_ps_b = [fit_d2hbanin2(d[1], initial_guess) for d in df_trop.groupby('realm')]"
   ]
  },
  {
   "cell_type": "markdown",
   "id": "ea21e665-68b8-4a13-a36f-54ba4c05ea91",
   "metadata": {},
   "source": [
    "### Load Banin parameters and calculate those curves"
   ]
  },
  {
   "cell_type": "code",
   "execution_count": 23,
   "id": "202423c4-5e20-4711-ad23-65230a0ac7c5",
   "metadata": {},
   "outputs": [],
   "source": [
    "param_ranges_full = pd.read_csv('/global/homes/j/jneedham/tropical-fixed-biog/allometry_data/banin_h_allom_params.csv')"
   ]
  },
  {
   "cell_type": "code",
   "execution_count": 24,
   "id": "6dca7e81-9e42-49a1-a880-0e64cc83a715",
   "metadata": {},
   "outputs": [
    {
     "data": {
      "text/html": [
       "<div>\n",
       "<style scoped>\n",
       "    .dataframe tbody tr th:only-of-type {\n",
       "        vertical-align: middle;\n",
       "    }\n",
       "\n",
       "    .dataframe tbody tr th {\n",
       "        vertical-align: top;\n",
       "    }\n",
       "\n",
       "    .dataframe thead th {\n",
       "        text-align: right;\n",
       "    }\n",
       "</style>\n",
       "<table border=\"1\" class=\"dataframe\">\n",
       "  <thead>\n",
       "    <tr style=\"text-align: right;\">\n",
       "      <th></th>\n",
       "      <th>realm</th>\n",
       "      <th>a</th>\n",
       "      <th>b</th>\n",
       "      <th>c</th>\n",
       "    </tr>\n",
       "  </thead>\n",
       "  <tbody>\n",
       "    <tr>\n",
       "      <th>0</th>\n",
       "      <td>Americas</td>\n",
       "      <td>35.83</td>\n",
       "      <td>31.15</td>\n",
       "      <td>0.029</td>\n",
       "    </tr>\n",
       "    <tr>\n",
       "      <th>1</th>\n",
       "      <td>Africa</td>\n",
       "      <td>45.08</td>\n",
       "      <td>42.80</td>\n",
       "      <td>0.025</td>\n",
       "    </tr>\n",
       "    <tr>\n",
       "      <th>2</th>\n",
       "      <td>Asia</td>\n",
       "      <td>58.25</td>\n",
       "      <td>53.58</td>\n",
       "      <td>0.019</td>\n",
       "    </tr>\n",
       "    <tr>\n",
       "      <th>3</th>\n",
       "      <td>Australia</td>\n",
       "      <td>34.97</td>\n",
       "      <td>31.08</td>\n",
       "      <td>0.030</td>\n",
       "    </tr>\n",
       "  </tbody>\n",
       "</table>\n",
       "</div>"
      ],
      "text/plain": [
       "       realm      a      b      c\n",
       "0   Americas  35.83  31.15  0.029\n",
       "1     Africa  45.08  42.80  0.025\n",
       "2       Asia  58.25  53.58  0.019\n",
       "3  Australia  34.97  31.08  0.030"
      ]
     },
     "execution_count": 24,
     "metadata": {},
     "output_type": "execute_result"
    }
   ],
   "source": [
    "param_ranges_full"
   ]
  },
  {
   "cell_type": "code",
   "execution_count": 25,
   "id": "c8ec3e63-ca40-4396-8c86-71e54a76f6d6",
   "metadata": {},
   "outputs": [],
   "source": [
    "ds = np.arange(1, 250, 1)\n",
    "banin_americas = fit_d2hbanin1(ds, param_ranges_full[param_ranges_full['realm'] == 'Americas'].values.flatten().tolist()[1:4])\n",
    "banin_africa = fit_d2hbanin1(ds,  param_ranges_full[param_ranges_full['realm'] == 'Africa'].values.flatten().tolist()[1:4])\n",
    "banin_asia = fit_d2hbanin1(ds,  param_ranges_full[param_ranges_full['realm'] == 'Asia'].values.flatten().tolist()[1:4])\n",
    "banin_australia = fit_d2hbanin1(ds, param_ranges_full[param_ranges_full['realm'] == 'Australia'].values.flatten().tolist()[1:4])"
   ]
  },
  {
   "cell_type": "markdown",
   "id": "f5a13471-4c05-4c81-8394-c951b4c4dd92",
   "metadata": {},
   "source": [
    "#### Plot them "
   ]
  },
  {
   "cell_type": "code",
   "execution_count": 26,
   "id": "5c30f2e1-c2b1-4385-926d-1729074fcbdf",
   "metadata": {},
   "outputs": [],
   "source": [
    "realms  = df_trop['realm'].unique()"
   ]
  },
  {
   "cell_type": "code",
   "execution_count": 27,
   "id": "8b3f8b38-9968-4c56-ab64-450e7308fcf8",
   "metadata": {},
   "outputs": [
    {
     "name": "stdout",
     "output_type": "stream",
     "text": [
      "['Afrotropic' 'Australasia' 'Indo-Malaya' 'Neotropic' 'Oceania'\n",
      " 'Palearctic']\n"
     ]
    }
   ],
   "source": [
    "print(realms)"
   ]
  },
  {
   "cell_type": "code",
   "execution_count": 29,
   "id": "7613803f-0b59-443a-bf4b-ad0e86abe06b",
   "metadata": {},
   "outputs": [
    {
     "data": {
      "text/plain": [
       "<matplotlib.legend.Legend at 0x7ff22005df70>"
      ]
     },
     "execution_count": 29,
     "metadata": {},
     "output_type": "execute_result"
    },
    {
     "data": {
      "image/png": "[encoded data removed]",
      "text/plain": [
       "<Figure size 1008x576 with 6 Axes>"
      ]
     },
     "metadata": {
      "needs_background": "light"
     },
     "output_type": "display_data"
    }
   ],
   "source": [
    "fig1, axs = plt.subplots(nrows=2, ncols=3, figsize=(14,8), constrained_layout=True, sharex=True, sharey=True)\n",
    "axs=axs.flatten()\n",
    "\n",
    "for i in np.arange(0,len(realms)): \n",
    "    realm = realms[i]\n",
    "    ps_mc = height_ps_mc[i]\n",
    "    ps_b = height_ps_b[i]\n",
    "    df = df_trop.loc[df_trop['realm'] == realm]\n",
    "    dbh = np.arange(1, df['dbh'].max(),1)\n",
    "    curve_mc = [d2hmc(d, ps_mc[0], ps_mc[1], ps_mc[2])  for  d  in dbh]\n",
    "    curve_b = [d2hbanin(d, ps_b[0], ps_b[1], ps_b[2])  for  d  in dbh]\n",
    "    \n",
    "\n",
    "    axs[i].scatter(df['dbh'], df['height'], s=0.05, color='blue')\n",
    "    axs[i].plot(dbh, curve_mc, color='red',label='Tallo - MM',linewidth=3.0)\n",
    "    #axs[i].plot(dbh, curve_b, color='grey',label='Tallo - exponential',linewidth=3.0)\n",
    "    axs[i].set_title(realm,  fontsize=16)\n",
    " \n",
    "fig1.supxlabel('DBH (cm)', fontsize=16)\n",
    "fig1.supylabel('Height (m)', fontsize=16)\n",
    "\n",
    "### add in the banin models\n",
    "axs[2].plot(ds, banin_asia, color='orange', label='Banin',linewidth=3.0)\n",
    "axs[3].plot(ds, banin_americas, color='orange',linewidth=3.0)\n",
    "axs[1].plot(ds, banin_australia, color='orange',linewidth=3.0)\n",
    "axs[0].plot(ds, banin_africa, color='orange',linewidth=3.0, label='Banin')\n",
    "\n",
    "axs[0].legend(fontsize=12)"
   ]
  },
  {
   "cell_type": "code",
   "execution_count": null,
   "id": "6981214d-4a40-48f8-9ec6-2e0cc32ea3d8",
   "metadata": {},
   "outputs": [],
   "source": []
  }
 ],
 "metadata": {
  "kernelspec": {
   "display_name": "MyEnv",
   "language": "python",
   "name": "myenv"
  },
  "language_info": {
   "codemirror_mode": {
    "name": "ipython",
    "version": 3
   },
   "file_extension": ".py",
   "mimetype": "text/x-python",
   "name": "python",
   "nbconvert_exporter": "python",
   "pygments_lexer": "ipython3",
   "version": "3.9.16"
  }
 },
 "nbformat": 4,
 "nbformat_minor": 5
}
